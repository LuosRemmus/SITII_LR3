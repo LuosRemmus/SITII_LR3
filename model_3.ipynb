{
 "cells": [
  {
   "cell_type": "code",
   "execution_count": null,
   "metadata": {},
   "outputs": [],
   "source": [
    "model = AgglomerativeClustering(n_clusters=4, linkage='ward', affinity='euclidean')\n",
    "labels = model.fit_predict(X)\n",
    "apply_clustering_and_visualize(X, y_true, X_tsne, labels, 'AgglomerativeClustering')"
   ]
  }
 ],
 "metadata": {
  "language_info": {
   "name": "python"
  }
 },
 "nbformat": 4,
 "nbformat_minor": 2
}
